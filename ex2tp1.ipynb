{
  "nbformat": 4,
  "nbformat_minor": 0,
  "metadata": {
    "colab": {
      "provenance": [],
      "authorship_tag": "ABX9TyPujI+BhyOv7a+xEWbbahwq",
      "include_colab_link": true
    },
    "kernelspec": {
      "name": "python3",
      "display_name": "Python 3"
    },
    "language_info": {
      "name": "python"
    }
  },
  "cells": [
    {
      "cell_type": "markdown",
      "metadata": {
        "id": "view-in-github",
        "colab_type": "text"
      },
      "source": [
        "<a href=\"https://colab.research.google.com/github/ILIAS-BARIHI/tp1TDE/blob/main/ex2tp1.ipynb\" target=\"_parent\"><img src=\"https://colab.research.google.com/assets/colab-badge.svg\" alt=\"Open In Colab\"/></a>"
      ]
    },
    {
      "cell_type": "code",
      "execution_count": 15,
      "metadata": {
        "colab": {
          "base_uri": "https://localhost:8080/"
        },
        "id": "7tWGVfTfyP09",
        "outputId": "b2fcc7f2-b747-4443-cb2b-889751209ad7"
      },
      "outputs": [
        {
          "output_type": "stream",
          "name": "stdout",
          "text": [
            "<students>\n",
            "  <student>\n",
            "    <name>Hanae</name>\n",
            "    <email>hanae@gmail.com</email>\n",
            "  </student>\n",
            "  <student>\n",
            "    <name>Khalid</name>\n",
            "    <email>khalid@gmail.com</email>\n",
            "  </student>\n",
            "  <student>\n",
            "    <name>ILIAS</name>\n",
            "    <email>ILIAS@gmail.com</email>\n",
            "  </student>\n",
            "  <student>\n",
            "    <name>YAHYA</name>\n",
            "    <email>YAHYA@gmail.com</email>\n",
            "  </student>\n",
            "</students>\n",
            "\n",
            "<class 'lxml.etree._Element'>\n"
          ]
        }
      ],
      "source": [
        "from lxml import etree\n",
        "\n",
        "students = etree.Element(\"students\")\n",
        "student = etree. SubElement (students,\"student\")\n",
        "student.set(\"student-id\", \"0001\")\n",
        "name = etree.SubElement(student, \"name\")\n",
        "name. text = \"Karim\"\n",
        "email = etree. SubElement(student, \"email\")\n",
        "email.text = \"karim@ gmail.com\"\n",
        "\n",
        "d1={'ID': '0002', 'name': 'Hanae','email': 'hanae@gmail.com'}                            \n",
        "d2={'ID': '0003', 'name': 'Khalid','email': 'khalid@gmail.com'}\n",
        "d3={'ID': '0004', 'name': 'ILIAS','email': 'ILIAS@gmail.com'}                     \n",
        "d4={'ID': '0005', 'name': 'YAHYA','email': 'YAHYA@gmail.com'}\n",
        "new_students=[d1,d2,d3,d4]\n",
        "students = etree.Element(\"students\")\n",
        "for i in (new_students):       \n",
        " student = etree. SubElement (students,\"student\")\n",
        " name = etree.SubElement(student, \"name\")\n",
        " name. text = i['name']\n",
        " email = etree. SubElement(student, \"email\")\n",
        " email.text = i['email']\n",
        "\n",
        "print (etree. tostring(students, pretty_print=True,encoding='unicode'))\n",
        "\n",
        "print(type(students))\n",
        "tree = etree.ElementTree(students)\n",
        "\n",
        "tree.write('students.xml')"
      ]
    }
  ]
}