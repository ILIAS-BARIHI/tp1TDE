{
  "nbformat": 4,
  "nbformat_minor": 0,
  "metadata": {
    "colab": {
      "provenance": [],
      "collapsed_sections": [],
      "authorship_tag": "ABX9TyN+py5ocUhC+t9a0tUE2v3T",
      "include_colab_link": true
    },
    "kernelspec": {
      "name": "python3",
      "display_name": "Python 3"
    },
    "language_info": {
      "name": "python"
    }
  },
  "cells": [
    {
      "cell_type": "markdown",
      "metadata": {
        "id": "view-in-github",
        "colab_type": "text"
      },
      "source": [
        "<a href=\"https://colab.research.google.com/github/ILIAS-BARIHI/tp1TDE/blob/main/ex1.ipynb\" target=\"_parent\"><img src=\"https://colab.research.google.com/assets/colab-badge.svg\" alt=\"Open In Colab\"/></a>"
      ]
    },
    {
      "cell_type": "code",
      "execution_count": null,
      "metadata": {
        "id": "Og8esi-uiVo0"
      },
      "outputs": [],
      "source": [
        "from lxml import etree"
      ]
    },
    {
      "cell_type": "code",
      "source": [
        "students = etree.Element(\"students\")\n",
        "student = etree. SubElement (students,\"student\")\n",
        "student.set(\"student-id\", \"0001\")\n",
        "name = etree.SubElement(student, \"name\")\n",
        "name. text = \"Karim\"\n",
        "email = etree. SubElement(student, \"email\")\n",
        "email.text = \"karim@ gmail.com\"\n",
        "print (etree. tostring(students, pretty_print=True))\n"
      ],
      "metadata": {
        "colab": {
          "base_uri": "https://localhost:8080/"
        },
        "id": "mjdjNf9FkWwM",
        "outputId": "a3584bb0-913a-4ced-8584-9ee8abb5bf26"
      },
      "execution_count": null,
      "outputs": [
        {
          "output_type": "stream",
          "name": "stdout",
          "text": [
            "b'<students>\\n  <student student-id=\"0001\">\\n    <name>Karim</name>\\n    <email>karim@ gmail.com</email>\\n  </student>\\n</students>\\n'\n"
          ]
        }
      ]
    },
    {
      "cell_type": "code",
      "source": [],
      "metadata": {
        "id": "mqSzduUrzy8s"
      },
      "execution_count": null,
      "outputs": []
    },
    {
      "cell_type": "code",
      "source": [],
      "metadata": {
        "id": "XfgYhM_tyMZD"
      },
      "execution_count": null,
      "outputs": []
    }
  ]
}